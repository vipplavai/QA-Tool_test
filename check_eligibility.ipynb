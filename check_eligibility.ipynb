{
 "cells": [
  {
   "cell_type": "code",
   "execution_count": 1,
   "id": "36d79f7d",
   "metadata": {},
   "outputs": [
    {
     "name": "stdout",
     "output_type": "stream",
     "text": [
      "✅ All content audited!\n"
     ]
    }
   ],
   "source": [
    "#!/usr/bin/env python3\n",
    "import os\n",
    "from pymongo import MongoClient\n",
    "\n",
    "def get_mongo_client():\n",
    "    \"\"\"\n",
    "    Retrieves MongoDB URI from the environment variable MONGO_URI.\n",
    "    \"\"\"\n",
    "    uri = os.getenv(\"MONGO_URI\")\n",
    "    if not uri:\n",
    "        raise RuntimeError(\"Please set the MONGO_URI environment variable.\")\n",
    "    return MongoClient(uri)\n",
    "\n",
    "def find_eligible_content(max_auditors=5):\n",
    "    \"\"\"\n",
    "    Connects to Tel_QA database and finds content IDs with fewer than\n",
    "    max_auditors total (real audits + pending placeholders).\n",
    "    \"\"\"\n",
    "    client = get_mongo_client()\n",
    "    db = client[\"Tel_QA\"]\n",
    "    \n",
    "    qa_col     = db[\"QA_pairs\"]\n",
    "    audit_col  = db[\"audit_logs\"]\n",
    "    assign_col = db[\"assignment_placeholders\"]\n",
    "    \n",
    "    # All content IDs defined in QA_pairs\n",
    "    content_ids = qa_col.distinct(\"content_id\")\n",
    "    \n",
    "    eligible = []\n",
    "    for cid in content_ids:\n",
    "        real_count    = audit_col.count_documents({\"content_id\": cid})\n",
    "        pending_count = assign_col.count_documents({\"content_id\": cid})\n",
    "        total         = real_count + pending_count\n",
    "        \n",
    "        if total < max_auditors:\n",
    "            eligible.append({\n",
    "                \"content_id\": cid,\n",
    "                \"real_audits\": real_count,\n",
    "                \"pending\": pending_count,\n",
    "                \"total\": total\n",
    "            })\n",
    "    \n",
    "    return eligible\n",
    "\n",
    "def main():\n",
    "    eligible = find_eligible_content(max_auditors=5)\n",
    "    if not eligible:\n",
    "        print(\"✅ All content audited!\")\n",
    "    else:\n",
    "        print(\"Content IDs still available for auditing (fewer than 5 assignments):\")\n",
    "        for item in eligible:\n",
    "            print(f\" - ID {item['content_id']}: {item['real_audits']} audits, \"\n",
    "                  f\"{item['pending']} pending, total {item['total']}\")\n",
    "\n",
    "if __name__ == \"__main__\":\n",
    "    main()\n"
   ]
  },
  {
   "cell_type": "code",
   "execution_count": null,
   "id": "42123af9",
   "metadata": {},
   "outputs": [],
   "source": []
  }
 ],
 "metadata": {
  "kernelspec": {
   "display_name": "nlp",
   "language": "python",
   "name": "python3"
  },
  "language_info": {
   "codemirror_mode": {
    "name": "ipython",
    "version": 3
   },
   "file_extension": ".py",
   "mimetype": "text/x-python",
   "name": "python",
   "nbconvert_exporter": "python",
   "pygments_lexer": "ipython3",
   "version": "3.12.0"
  }
 },
 "nbformat": 4,
 "nbformat_minor": 5
}
