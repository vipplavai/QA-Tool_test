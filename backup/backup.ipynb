{
 "cells": [
  {
   "cell_type": "code",
   "execution_count": 2,
   "id": "d317c8ec",
   "metadata": {},
   "outputs": [
    {
     "name": "stdout",
     "output_type": "stream",
     "text": [
      "✅ JSON export done.\n"
     ]
    },
    {
     "name": "stderr",
     "output_type": "stream",
     "text": [
      "2025-05-20T21:53:07.080+0530\twriting Tel_QA.user_logs to Tel_QA_bson_backup/Tel_QA/user_logs.bson\n",
      "2025-05-20T21:53:07.108+0530\twriting Tel_QA.system_logs to Tel_QA_bson_backup/Tel_QA/system_logs.bson\n",
      "2025-05-20T21:53:07.131+0530\twriting Tel_QA.Content to Tel_QA_bson_backup/Tel_QA/Content.bson\n",
      "2025-05-20T21:53:07.180+0530\twriting Tel_QA.audit_logs to Tel_QA_bson_backup/Tel_QA/audit_logs.bson\n",
      "2025-05-20T21:53:07.408+0530\tdone dumping Tel_QA.user_logs (4409 documents)\n",
      "2025-05-20T21:53:07.447+0530\tdone dumping Tel_QA.system_logs (3457 documents)\n",
      "2025-05-20T21:53:07.472+0530\twriting Tel_QA.skipped_logs to Tel_QA_bson_backup/Tel_QA/skipped_logs.bson\n",
      "2025-05-20T21:53:07.569+0530\tdone dumping Tel_QA.skipped_logs (561 documents)\n",
      "2025-05-20T21:53:07.592+0530\twriting Tel_QA.exported_audit_logs to Tel_QA_bson_backup/Tel_QA/exported_audit_logs.bson\n",
      "2025-05-20T21:53:07.655+0530\twriting Tel_QA.QA_pairs to Tel_QA_bson_backup/Tel_QA/QA_pairs.bson\n",
      "2025-05-20T21:53:07.693+0530\tdone dumping Tel_QA.exported_audit_logs (526 documents)\n",
      "2025-05-20T21:53:07.714+0530\twriting Tel_QA.doubt_logs to Tel_QA_bson_backup/Tel_QA/doubt_logs.bson\n",
      "2025-05-20T21:53:07.816+0530\tdone dumping Tel_QA.doubt_logs (248 documents)\n",
      "2025-05-20T21:53:07.842+0530\twriting Tel_QA.users to Tel_QA_bson_backup/Tel_QA/users.bson\n",
      "2025-05-20T21:53:07.908+0530\tdone dumping Tel_QA.users (14 documents)\n",
      "2025-05-20T21:53:07.911+0530\tdone dumping Tel_QA.QA_pairs (892 documents)\n",
      "2025-05-20T21:53:07.932+0530\twriting Tel_QA.assignment_placeholders to Tel_QA_bson_backup/Tel_QA/assignment_placeholders.bson\n",
      "2025-05-20T21:53:07.991+0530\tdone dumping Tel_QA.assignment_placeholders (0 documents)\n",
      "2025-05-20T21:53:08.441+0530\tdone dumping Tel_QA.audit_logs (23259 documents)\n",
      "2025-05-20T21:53:09.090+0530\t[##......................]  Tel_QA.Content  101/896  (11.3%)\n",
      "2025-05-20T21:53:09.279+0530\t[########################]  Tel_QA.Content  896/896  (100.0%)\n",
      "2025-05-20T21:53:09.279+0530\tdone dumping Tel_QA.Content (896 documents)\n"
     ]
    },
    {
     "name": "stdout",
     "output_type": "stream",
     "text": [
      "✅ BSON dump done.\n"
     ]
    }
   ],
   "source": [
    "# backup.py\n",
    "import subprocess, os\n",
    "from pymongo import MongoClient\n",
    "from bson import json_util\n",
    "import json\n",
    "from dotenv import load_dotenv\n",
    "\n",
    "load_dotenv()\n",
    "MONGO_URI = os.getenv(\"MONGO_URI\")\n",
    "DB_NAME   = \"Tel_QA\"\n",
    "\n",
    "def backup_json():\n",
    "    client = MongoClient(MONGO_URI)\n",
    "    db     = client[DB_NAME]\n",
    "    os.makedirs(\"Tel_QA_backup\", exist_ok=True)\n",
    "    for coll in db.list_collection_names():\n",
    "        docs = list(db[coll].find())\n",
    "        with open(f\"Tel_QA_backup/{coll}.json\", \"w\", encoding=\"utf-8\") as f:\n",
    "            json.dump(docs, f, default=json_util.default,\n",
    "                      ensure_ascii=False, indent=4)\n",
    "    print(\"✅ JSON export done.\")\n",
    "\n",
    "def backup_bson():\n",
    "    os.makedirs(\"Tel_QA_bson_backup\", exist_ok=True)\n",
    "    cmd = [\"mongodump\", f\"--uri={MONGO_URI}\", \"--db\", DB_NAME, \"--out\", \"Tel_QA_bson_backup\"]\n",
    "    try:\n",
    "        subprocess.run(cmd, check=True)\n",
    "        print(\"✅ BSON dump done.\")\n",
    "    except FileNotFoundError:\n",
    "        print(\"❌ mongodump not found. Install MongoDB Database Tools.\")\n",
    "    except subprocess.CalledProcessError as e:\n",
    "        print(f\"❌ mongodump failed (code {e.returncode})\")\n",
    "\n",
    "if __name__ == \"__main__\":\n",
    "    backup_json()\n",
    "    backup_bson()\n"
   ]
  },
  {
   "cell_type": "code",
   "execution_count": null,
   "id": "c2f40a1d",
   "metadata": {},
   "outputs": [],
   "source": []
  }
 ],
 "metadata": {
  "kernelspec": {
   "display_name": "nlp",
   "language": "python",
   "name": "python3"
  },
  "language_info": {
   "codemirror_mode": {
    "name": "ipython",
    "version": 3
   },
   "file_extension": ".py",
   "mimetype": "text/x-python",
   "name": "python",
   "nbconvert_exporter": "python",
   "pygments_lexer": "ipython3",
   "version": "3.12.0"
  }
 },
 "nbformat": 4,
 "nbformat_minor": 5
}
